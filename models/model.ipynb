{
 "cells": [
  {
   "cell_type": "code",
   "execution_count": 6,
   "metadata": {
    "collapsed": true,
    "pycharm": {
     "name": "#%%\n"
    }
   },
   "outputs": [],
   "source": [
    "# importing python module.\n",
    "import pandas as pd\n",
    "import lightgbm\n",
    "from lightgbm.sklearn import LGBMClassifier"
   ]
  },
  {
   "cell_type": "code",
   "execution_count": 7,
   "outputs": [
    {
     "data": {
      "text/plain": "   patient_number  cholesterol  glucose  hdl_chol chol_hdl_ratio  age  gender  \\\n0               1          193       77        49            3,9   19  female   \n1               2          146       79        41            3,6   19  female   \n2               3          217       75        54              4   20  female   \n3               4          226       97        70            3,2   20  female   \n4               5          164       91        67            2,4   20  female   \n\n   height  weight   bmi  systolic_bp  diastolic_bp  waist  hip  \\\n0      61     119  22,5          118            70     32   38   \n1      60     135  26,4          108            58     33   40   \n2      67     187  29,3          110            72     40   45   \n3      64     114  19,6          122            64     31   39   \n4      70     141  20,2          122            86     32   39   \n\n  waist_hip_ratio     diabetes  \n0            0,84  No diabetes  \n1            0,83  No diabetes  \n2            0,89  No diabetes  \n3            0,79  No diabetes  \n4            0,82  No diabetes  ",
      "text/html": "<div>\n<style scoped>\n    .dataframe tbody tr th:only-of-type {\n        vertical-align: middle;\n    }\n\n    .dataframe tbody tr th {\n        vertical-align: top;\n    }\n\n    .dataframe thead th {\n        text-align: right;\n    }\n</style>\n<table border=\"1\" class=\"dataframe\">\n  <thead>\n    <tr style=\"text-align: right;\">\n      <th></th>\n      <th>patient_number</th>\n      <th>cholesterol</th>\n      <th>glucose</th>\n      <th>hdl_chol</th>\n      <th>chol_hdl_ratio</th>\n      <th>age</th>\n      <th>gender</th>\n      <th>height</th>\n      <th>weight</th>\n      <th>bmi</th>\n      <th>systolic_bp</th>\n      <th>diastolic_bp</th>\n      <th>waist</th>\n      <th>hip</th>\n      <th>waist_hip_ratio</th>\n      <th>diabetes</th>\n    </tr>\n  </thead>\n  <tbody>\n    <tr>\n      <th>0</th>\n      <td>1</td>\n      <td>193</td>\n      <td>77</td>\n      <td>49</td>\n      <td>3,9</td>\n      <td>19</td>\n      <td>female</td>\n      <td>61</td>\n      <td>119</td>\n      <td>22,5</td>\n      <td>118</td>\n      <td>70</td>\n      <td>32</td>\n      <td>38</td>\n      <td>0,84</td>\n      <td>No diabetes</td>\n    </tr>\n    <tr>\n      <th>1</th>\n      <td>2</td>\n      <td>146</td>\n      <td>79</td>\n      <td>41</td>\n      <td>3,6</td>\n      <td>19</td>\n      <td>female</td>\n      <td>60</td>\n      <td>135</td>\n      <td>26,4</td>\n      <td>108</td>\n      <td>58</td>\n      <td>33</td>\n      <td>40</td>\n      <td>0,83</td>\n      <td>No diabetes</td>\n    </tr>\n    <tr>\n      <th>2</th>\n      <td>3</td>\n      <td>217</td>\n      <td>75</td>\n      <td>54</td>\n      <td>4</td>\n      <td>20</td>\n      <td>female</td>\n      <td>67</td>\n      <td>187</td>\n      <td>29,3</td>\n      <td>110</td>\n      <td>72</td>\n      <td>40</td>\n      <td>45</td>\n      <td>0,89</td>\n      <td>No diabetes</td>\n    </tr>\n    <tr>\n      <th>3</th>\n      <td>4</td>\n      <td>226</td>\n      <td>97</td>\n      <td>70</td>\n      <td>3,2</td>\n      <td>20</td>\n      <td>female</td>\n      <td>64</td>\n      <td>114</td>\n      <td>19,6</td>\n      <td>122</td>\n      <td>64</td>\n      <td>31</td>\n      <td>39</td>\n      <td>0,79</td>\n      <td>No diabetes</td>\n    </tr>\n    <tr>\n      <th>4</th>\n      <td>5</td>\n      <td>164</td>\n      <td>91</td>\n      <td>67</td>\n      <td>2,4</td>\n      <td>20</td>\n      <td>female</td>\n      <td>70</td>\n      <td>141</td>\n      <td>20,2</td>\n      <td>122</td>\n      <td>86</td>\n      <td>32</td>\n      <td>39</td>\n      <td>0,82</td>\n      <td>No diabetes</td>\n    </tr>\n  </tbody>\n</table>\n</div>"
     },
     "execution_count": 7,
     "metadata": {},
     "output_type": "execute_result"
    }
   ],
   "source": [
    "# loading dataset with pandas\n",
    "dia = pd.read_csv(\"./dataset/diabetes.csv\")\n",
    "\n",
    "dia.head()"
   ],
   "metadata": {
    "collapsed": false,
    "pycharm": {
     "name": "#%%\n"
    }
   }
  },
  {
   "cell_type": "code",
   "execution_count": 8,
   "outputs": [
    {
     "name": "stdout",
     "output_type": "stream",
     "text": [
      "<class 'pandas.core.frame.DataFrame'>\n",
      "RangeIndex: 390 entries, 0 to 389\n",
      "Data columns (total 16 columns):\n",
      " #   Column           Non-Null Count  Dtype \n",
      "---  ------           --------------  ----- \n",
      " 0   patient_number   390 non-null    int64 \n",
      " 1   cholesterol      390 non-null    int64 \n",
      " 2   glucose          390 non-null    int64 \n",
      " 3   hdl_chol         390 non-null    int64 \n",
      " 4   chol_hdl_ratio   390 non-null    object\n",
      " 5   age              390 non-null    int64 \n",
      " 6   gender           390 non-null    object\n",
      " 7   height           390 non-null    int64 \n",
      " 8   weight           390 non-null    int64 \n",
      " 9   bmi              390 non-null    object\n",
      " 10  systolic_bp      390 non-null    int64 \n",
      " 11  diastolic_bp     390 non-null    int64 \n",
      " 12  waist            390 non-null    int64 \n",
      " 13  hip              390 non-null    int64 \n",
      " 14  waist_hip_ratio  390 non-null    object\n",
      " 15  diabetes         390 non-null    object\n",
      "dtypes: int64(11), object(5)\n",
      "memory usage: 48.9+ KB\n"
     ]
    }
   ],
   "source": [
    "# wrangling datasets with pandas\n",
    "dia.info()"
   ],
   "metadata": {
    "collapsed": false,
    "pycharm": {
     "name": "#%%\n"
    }
   }
  },
  {
   "cell_type": "code",
   "execution_count": 9,
   "outputs": [
    {
     "data": {
      "text/plain": "       patient_number  cholesterol     glucose    hdl_chol         age  \\\ncount      390.000000   390.000000  390.000000  390.000000  390.000000   \nmean       195.500000   207.230769  107.338462   50.266667   46.774359   \nstd        112.727548    44.666005   53.798188   17.279069   16.435911   \nmin          1.000000    78.000000   48.000000   12.000000   19.000000   \n25%         98.250000   179.000000   81.000000   38.000000   34.000000   \n50%        195.500000   203.000000   90.000000   46.000000   44.500000   \n75%        292.750000   229.000000  107.750000   59.000000   60.000000   \nmax        390.000000   443.000000  385.000000  120.000000   92.000000   \n\n           height      weight  systolic_bp  diastolic_bp       waist  \\\ncount  390.000000  390.000000   390.000000    390.000000  390.000000   \nmean    65.951282  177.407692   137.133333     83.289744   37.869231   \nstd      3.918867   40.407824    22.859528     13.498192    5.760947   \nmin     52.000000   99.000000    90.000000     48.000000   26.000000   \n25%     63.000000  150.250000   122.000000     75.000000   33.000000   \n50%     66.000000  173.000000   136.000000     82.000000   37.000000   \n75%     69.000000  200.000000   148.000000     90.000000   41.000000   \nmax     76.000000  325.000000   250.000000    124.000000   56.000000   \n\n              hip  \ncount  390.000000  \nmean    42.992308  \nstd      5.664342  \nmin     30.000000  \n25%     39.000000  \n50%     42.000000  \n75%     46.000000  \nmax     64.000000  ",
      "text/html": "<div>\n<style scoped>\n    .dataframe tbody tr th:only-of-type {\n        vertical-align: middle;\n    }\n\n    .dataframe tbody tr th {\n        vertical-align: top;\n    }\n\n    .dataframe thead th {\n        text-align: right;\n    }\n</style>\n<table border=\"1\" class=\"dataframe\">\n  <thead>\n    <tr style=\"text-align: right;\">\n      <th></th>\n      <th>patient_number</th>\n      <th>cholesterol</th>\n      <th>glucose</th>\n      <th>hdl_chol</th>\n      <th>age</th>\n      <th>height</th>\n      <th>weight</th>\n      <th>systolic_bp</th>\n      <th>diastolic_bp</th>\n      <th>waist</th>\n      <th>hip</th>\n    </tr>\n  </thead>\n  <tbody>\n    <tr>\n      <th>count</th>\n      <td>390.000000</td>\n      <td>390.000000</td>\n      <td>390.000000</td>\n      <td>390.000000</td>\n      <td>390.000000</td>\n      <td>390.000000</td>\n      <td>390.000000</td>\n      <td>390.000000</td>\n      <td>390.000000</td>\n      <td>390.000000</td>\n      <td>390.000000</td>\n    </tr>\n    <tr>\n      <th>mean</th>\n      <td>195.500000</td>\n      <td>207.230769</td>\n      <td>107.338462</td>\n      <td>50.266667</td>\n      <td>46.774359</td>\n      <td>65.951282</td>\n      <td>177.407692</td>\n      <td>137.133333</td>\n      <td>83.289744</td>\n      <td>37.869231</td>\n      <td>42.992308</td>\n    </tr>\n    <tr>\n      <th>std</th>\n      <td>112.727548</td>\n      <td>44.666005</td>\n      <td>53.798188</td>\n      <td>17.279069</td>\n      <td>16.435911</td>\n      <td>3.918867</td>\n      <td>40.407824</td>\n      <td>22.859528</td>\n      <td>13.498192</td>\n      <td>5.760947</td>\n      <td>5.664342</td>\n    </tr>\n    <tr>\n      <th>min</th>\n      <td>1.000000</td>\n      <td>78.000000</td>\n      <td>48.000000</td>\n      <td>12.000000</td>\n      <td>19.000000</td>\n      <td>52.000000</td>\n      <td>99.000000</td>\n      <td>90.000000</td>\n      <td>48.000000</td>\n      <td>26.000000</td>\n      <td>30.000000</td>\n    </tr>\n    <tr>\n      <th>25%</th>\n      <td>98.250000</td>\n      <td>179.000000</td>\n      <td>81.000000</td>\n      <td>38.000000</td>\n      <td>34.000000</td>\n      <td>63.000000</td>\n      <td>150.250000</td>\n      <td>122.000000</td>\n      <td>75.000000</td>\n      <td>33.000000</td>\n      <td>39.000000</td>\n    </tr>\n    <tr>\n      <th>50%</th>\n      <td>195.500000</td>\n      <td>203.000000</td>\n      <td>90.000000</td>\n      <td>46.000000</td>\n      <td>44.500000</td>\n      <td>66.000000</td>\n      <td>173.000000</td>\n      <td>136.000000</td>\n      <td>82.000000</td>\n      <td>37.000000</td>\n      <td>42.000000</td>\n    </tr>\n    <tr>\n      <th>75%</th>\n      <td>292.750000</td>\n      <td>229.000000</td>\n      <td>107.750000</td>\n      <td>59.000000</td>\n      <td>60.000000</td>\n      <td>69.000000</td>\n      <td>200.000000</td>\n      <td>148.000000</td>\n      <td>90.000000</td>\n      <td>41.000000</td>\n      <td>46.000000</td>\n    </tr>\n    <tr>\n      <th>max</th>\n      <td>390.000000</td>\n      <td>443.000000</td>\n      <td>385.000000</td>\n      <td>120.000000</td>\n      <td>92.000000</td>\n      <td>76.000000</td>\n      <td>325.000000</td>\n      <td>250.000000</td>\n      <td>124.000000</td>\n      <td>56.000000</td>\n      <td>64.000000</td>\n    </tr>\n  </tbody>\n</table>\n</div>"
     },
     "execution_count": 9,
     "metadata": {},
     "output_type": "execute_result"
    }
   ],
   "source": [
    "dia.describe()"
   ],
   "metadata": {
    "collapsed": false,
    "pycharm": {
     "name": "#%%\n"
    }
   }
  },
  {
   "cell_type": "code",
   "execution_count": 14,
   "outputs": [],
   "source": [
    "dia.chol_hdl_ratio = round(dia.cholesterol / dia.hdl_chol,2)"
   ],
   "metadata": {
    "collapsed": false,
    "pycharm": {
     "name": "#%%\n"
    }
   }
  },
  {
   "cell_type": "code",
   "execution_count": 15,
   "outputs": [
    {
     "data": {
      "text/plain": "   patient_number  cholesterol  glucose  hdl_chol  chol_hdl_ratio  age  \\\n0               1          193       77        49            3.94   19   \n1               2          146       79        41            3.56   19   \n2               3          217       75        54            4.02   20   \n3               4          226       97        70            3.23   20   \n4               5          164       91        67            2.45   20   \n\n   gender  height  weight   bmi  systolic_bp  diastolic_bp  waist  hip  \\\n0  female      61     119  22,5          118            70     32   38   \n1  female      60     135  26,4          108            58     33   40   \n2  female      67     187  29,3          110            72     40   45   \n3  female      64     114  19,6          122            64     31   39   \n4  female      70     141  20,2          122            86     32   39   \n\n  waist_hip_ratio     diabetes  \n0            0,84  No diabetes  \n1            0,83  No diabetes  \n2            0,89  No diabetes  \n3            0,79  No diabetes  \n4            0,82  No diabetes  ",
      "text/html": "<div>\n<style scoped>\n    .dataframe tbody tr th:only-of-type {\n        vertical-align: middle;\n    }\n\n    .dataframe tbody tr th {\n        vertical-align: top;\n    }\n\n    .dataframe thead th {\n        text-align: right;\n    }\n</style>\n<table border=\"1\" class=\"dataframe\">\n  <thead>\n    <tr style=\"text-align: right;\">\n      <th></th>\n      <th>patient_number</th>\n      <th>cholesterol</th>\n      <th>glucose</th>\n      <th>hdl_chol</th>\n      <th>chol_hdl_ratio</th>\n      <th>age</th>\n      <th>gender</th>\n      <th>height</th>\n      <th>weight</th>\n      <th>bmi</th>\n      <th>systolic_bp</th>\n      <th>diastolic_bp</th>\n      <th>waist</th>\n      <th>hip</th>\n      <th>waist_hip_ratio</th>\n      <th>diabetes</th>\n    </tr>\n  </thead>\n  <tbody>\n    <tr>\n      <th>0</th>\n      <td>1</td>\n      <td>193</td>\n      <td>77</td>\n      <td>49</td>\n      <td>3.94</td>\n      <td>19</td>\n      <td>female</td>\n      <td>61</td>\n      <td>119</td>\n      <td>22,5</td>\n      <td>118</td>\n      <td>70</td>\n      <td>32</td>\n      <td>38</td>\n      <td>0,84</td>\n      <td>No diabetes</td>\n    </tr>\n    <tr>\n      <th>1</th>\n      <td>2</td>\n      <td>146</td>\n      <td>79</td>\n      <td>41</td>\n      <td>3.56</td>\n      <td>19</td>\n      <td>female</td>\n      <td>60</td>\n      <td>135</td>\n      <td>26,4</td>\n      <td>108</td>\n      <td>58</td>\n      <td>33</td>\n      <td>40</td>\n      <td>0,83</td>\n      <td>No diabetes</td>\n    </tr>\n    <tr>\n      <th>2</th>\n      <td>3</td>\n      <td>217</td>\n      <td>75</td>\n      <td>54</td>\n      <td>4.02</td>\n      <td>20</td>\n      <td>female</td>\n      <td>67</td>\n      <td>187</td>\n      <td>29,3</td>\n      <td>110</td>\n      <td>72</td>\n      <td>40</td>\n      <td>45</td>\n      <td>0,89</td>\n      <td>No diabetes</td>\n    </tr>\n    <tr>\n      <th>3</th>\n      <td>4</td>\n      <td>226</td>\n      <td>97</td>\n      <td>70</td>\n      <td>3.23</td>\n      <td>20</td>\n      <td>female</td>\n      <td>64</td>\n      <td>114</td>\n      <td>19,6</td>\n      <td>122</td>\n      <td>64</td>\n      <td>31</td>\n      <td>39</td>\n      <td>0,79</td>\n      <td>No diabetes</td>\n    </tr>\n    <tr>\n      <th>4</th>\n      <td>5</td>\n      <td>164</td>\n      <td>91</td>\n      <td>67</td>\n      <td>2.45</td>\n      <td>20</td>\n      <td>female</td>\n      <td>70</td>\n      <td>141</td>\n      <td>20,2</td>\n      <td>122</td>\n      <td>86</td>\n      <td>32</td>\n      <td>39</td>\n      <td>0,82</td>\n      <td>No diabetes</td>\n    </tr>\n  </tbody>\n</table>\n</div>"
     },
     "execution_count": 15,
     "metadata": {},
     "output_type": "execute_result"
    }
   ],
   "source": [
    "dia.head()"
   ],
   "metadata": {
    "collapsed": false,
    "pycharm": {
     "name": "#%%\n"
    }
   }
  },
  {
   "cell_type": "markdown",
   "source": [],
   "metadata": {
    "collapsed": false
   }
  },
  {
   "cell_type": "code",
   "execution_count": 16,
   "outputs": [],
   "source": [
    "dia.waist_hip_ratio= round(dia.waist/dia.hip,2)"
   ],
   "metadata": {
    "collapsed": false,
    "pycharm": {
     "name": "#%%\n"
    }
   }
  },
  {
   "cell_type": "code",
   "execution_count": 17,
   "outputs": [
    {
     "data": {
      "text/plain": "   patient_number  cholesterol  glucose  hdl_chol  chol_hdl_ratio  age  \\\n0               1          193       77        49            3.94   19   \n1               2          146       79        41            3.56   19   \n2               3          217       75        54            4.02   20   \n3               4          226       97        70            3.23   20   \n4               5          164       91        67            2.45   20   \n\n   gender  height  weight   bmi  systolic_bp  diastolic_bp  waist  hip  \\\n0  female      61     119  22,5          118            70     32   38   \n1  female      60     135  26,4          108            58     33   40   \n2  female      67     187  29,3          110            72     40   45   \n3  female      64     114  19,6          122            64     31   39   \n4  female      70     141  20,2          122            86     32   39   \n\n   waist_hip_ratio     diabetes  \n0             0.84  No diabetes  \n1             0.82  No diabetes  \n2             0.89  No diabetes  \n3             0.79  No diabetes  \n4             0.82  No diabetes  ",
      "text/html": "<div>\n<style scoped>\n    .dataframe tbody tr th:only-of-type {\n        vertical-align: middle;\n    }\n\n    .dataframe tbody tr th {\n        vertical-align: top;\n    }\n\n    .dataframe thead th {\n        text-align: right;\n    }\n</style>\n<table border=\"1\" class=\"dataframe\">\n  <thead>\n    <tr style=\"text-align: right;\">\n      <th></th>\n      <th>patient_number</th>\n      <th>cholesterol</th>\n      <th>glucose</th>\n      <th>hdl_chol</th>\n      <th>chol_hdl_ratio</th>\n      <th>age</th>\n      <th>gender</th>\n      <th>height</th>\n      <th>weight</th>\n      <th>bmi</th>\n      <th>systolic_bp</th>\n      <th>diastolic_bp</th>\n      <th>waist</th>\n      <th>hip</th>\n      <th>waist_hip_ratio</th>\n      <th>diabetes</th>\n    </tr>\n  </thead>\n  <tbody>\n    <tr>\n      <th>0</th>\n      <td>1</td>\n      <td>193</td>\n      <td>77</td>\n      <td>49</td>\n      <td>3.94</td>\n      <td>19</td>\n      <td>female</td>\n      <td>61</td>\n      <td>119</td>\n      <td>22,5</td>\n      <td>118</td>\n      <td>70</td>\n      <td>32</td>\n      <td>38</td>\n      <td>0.84</td>\n      <td>No diabetes</td>\n    </tr>\n    <tr>\n      <th>1</th>\n      <td>2</td>\n      <td>146</td>\n      <td>79</td>\n      <td>41</td>\n      <td>3.56</td>\n      <td>19</td>\n      <td>female</td>\n      <td>60</td>\n      <td>135</td>\n      <td>26,4</td>\n      <td>108</td>\n      <td>58</td>\n      <td>33</td>\n      <td>40</td>\n      <td>0.82</td>\n      <td>No diabetes</td>\n    </tr>\n    <tr>\n      <th>2</th>\n      <td>3</td>\n      <td>217</td>\n      <td>75</td>\n      <td>54</td>\n      <td>4.02</td>\n      <td>20</td>\n      <td>female</td>\n      <td>67</td>\n      <td>187</td>\n      <td>29,3</td>\n      <td>110</td>\n      <td>72</td>\n      <td>40</td>\n      <td>45</td>\n      <td>0.89</td>\n      <td>No diabetes</td>\n    </tr>\n    <tr>\n      <th>3</th>\n      <td>4</td>\n      <td>226</td>\n      <td>97</td>\n      <td>70</td>\n      <td>3.23</td>\n      <td>20</td>\n      <td>female</td>\n      <td>64</td>\n      <td>114</td>\n      <td>19,6</td>\n      <td>122</td>\n      <td>64</td>\n      <td>31</td>\n      <td>39</td>\n      <td>0.79</td>\n      <td>No diabetes</td>\n    </tr>\n    <tr>\n      <th>4</th>\n      <td>5</td>\n      <td>164</td>\n      <td>91</td>\n      <td>67</td>\n      <td>2.45</td>\n      <td>20</td>\n      <td>female</td>\n      <td>70</td>\n      <td>141</td>\n      <td>20,2</td>\n      <td>122</td>\n      <td>86</td>\n      <td>32</td>\n      <td>39</td>\n      <td>0.82</td>\n      <td>No diabetes</td>\n    </tr>\n  </tbody>\n</table>\n</div>"
     },
     "execution_count": 17,
     "metadata": {},
     "output_type": "execute_result"
    }
   ],
   "source": [
    "dia.head()"
   ],
   "metadata": {
    "collapsed": false,
    "pycharm": {
     "name": "#%%\n"
    }
   }
  },
  {
   "cell_type": "code",
   "execution_count": 19,
   "outputs": [
    {
     "data": {
      "text/plain": "   patient_number  cholesterol  glucose  hdl_chol  chol_hdl_ratio  age  \\\n0               1          193       77        49            3.94   19   \n1               2          146       79        41            3.56   19   \n2               3          217       75        54            4.02   20   \n3               4          226       97        70            3.23   20   \n4               5          164       91        67            2.45   20   \n\n   gender  height  weight   bmi  systolic_bp  diastolic_bp  waist  hip  \\\n0  female      61     119  22,5          118            70     32   38   \n1  female      60     135  26,4          108            58     33   40   \n2  female      67     187  29,3          110            72     40   45   \n3  female      64     114  19,6          122            64     31   39   \n4  female      70     141  20,2          122            86     32   39   \n\n   waist_hip_ratio     diabetes  \n0             0.84  No diabetes  \n1             0.82  No diabetes  \n2             0.89  No diabetes  \n3             0.79  No diabetes  \n4             0.82  No diabetes  ",
      "text/html": "<div>\n<style scoped>\n    .dataframe tbody tr th:only-of-type {\n        vertical-align: middle;\n    }\n\n    .dataframe tbody tr th {\n        vertical-align: top;\n    }\n\n    .dataframe thead th {\n        text-align: right;\n    }\n</style>\n<table border=\"1\" class=\"dataframe\">\n  <thead>\n    <tr style=\"text-align: right;\">\n      <th></th>\n      <th>patient_number</th>\n      <th>cholesterol</th>\n      <th>glucose</th>\n      <th>hdl_chol</th>\n      <th>chol_hdl_ratio</th>\n      <th>age</th>\n      <th>gender</th>\n      <th>height</th>\n      <th>weight</th>\n      <th>bmi</th>\n      <th>systolic_bp</th>\n      <th>diastolic_bp</th>\n      <th>waist</th>\n      <th>hip</th>\n      <th>waist_hip_ratio</th>\n      <th>diabetes</th>\n    </tr>\n  </thead>\n  <tbody>\n    <tr>\n      <th>0</th>\n      <td>1</td>\n      <td>193</td>\n      <td>77</td>\n      <td>49</td>\n      <td>3.94</td>\n      <td>19</td>\n      <td>female</td>\n      <td>61</td>\n      <td>119</td>\n      <td>22,5</td>\n      <td>118</td>\n      <td>70</td>\n      <td>32</td>\n      <td>38</td>\n      <td>0.84</td>\n      <td>No diabetes</td>\n    </tr>\n    <tr>\n      <th>1</th>\n      <td>2</td>\n      <td>146</td>\n      <td>79</td>\n      <td>41</td>\n      <td>3.56</td>\n      <td>19</td>\n      <td>female</td>\n      <td>60</td>\n      <td>135</td>\n      <td>26,4</td>\n      <td>108</td>\n      <td>58</td>\n      <td>33</td>\n      <td>40</td>\n      <td>0.82</td>\n      <td>No diabetes</td>\n    </tr>\n    <tr>\n      <th>2</th>\n      <td>3</td>\n      <td>217</td>\n      <td>75</td>\n      <td>54</td>\n      <td>4.02</td>\n      <td>20</td>\n      <td>female</td>\n      <td>67</td>\n      <td>187</td>\n      <td>29,3</td>\n      <td>110</td>\n      <td>72</td>\n      <td>40</td>\n      <td>45</td>\n      <td>0.89</td>\n      <td>No diabetes</td>\n    </tr>\n    <tr>\n      <th>3</th>\n      <td>4</td>\n      <td>226</td>\n      <td>97</td>\n      <td>70</td>\n      <td>3.23</td>\n      <td>20</td>\n      <td>female</td>\n      <td>64</td>\n      <td>114</td>\n      <td>19,6</td>\n      <td>122</td>\n      <td>64</td>\n      <td>31</td>\n      <td>39</td>\n      <td>0.79</td>\n      <td>No diabetes</td>\n    </tr>\n    <tr>\n      <th>4</th>\n      <td>5</td>\n      <td>164</td>\n      <td>91</td>\n      <td>67</td>\n      <td>2.45</td>\n      <td>20</td>\n      <td>female</td>\n      <td>70</td>\n      <td>141</td>\n      <td>20,2</td>\n      <td>122</td>\n      <td>86</td>\n      <td>32</td>\n      <td>39</td>\n      <td>0.82</td>\n      <td>No diabetes</td>\n    </tr>\n  </tbody>\n</table>\n</div>"
     },
     "execution_count": 19,
     "metadata": {},
     "output_type": "execute_result"
    }
   ],
   "source": [
    "# creating feature related to weight and height\n",
    "\n",
    "dia[\"weight_height\", ] = round(dia.weight/dia.height, 2)\n",
    "\n",
    "dia.head()"
   ],
   "metadata": {
    "collapsed": false,
    "pycharm": {
     "name": "#%%\n"
    }
   }
  },
  {
   "cell_type": "code",
   "execution_count": null,
   "outputs": [],
   "source": [],
   "metadata": {
    "collapsed": false,
    "pycharm": {
     "name": "#%%\n"
    }
   }
  },
  {
   "cell_type": "code",
   "execution_count": null,
   "outputs": [],
   "source": [],
   "metadata": {
    "collapsed": false,
    "pycharm": {
     "name": "#%%\n"
    }
   }
  }
 ],
 "metadata": {
  "kernelspec": {
   "display_name": "Python 3",
   "language": "python",
   "name": "python3"
  },
  "language_info": {
   "codemirror_mode": {
    "name": "ipython",
    "version": 2
   },
   "file_extension": ".py",
   "mimetype": "text/x-python",
   "name": "python",
   "nbconvert_exporter": "python",
   "pygments_lexer": "ipython2",
   "version": "2.7.6"
  }
 },
 "nbformat": 4,
 "nbformat_minor": 0
}